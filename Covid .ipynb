{
 "cells": [
  {
   "cell_type": "code",
   "execution_count": 1,
   "metadata": {
    "_cell_guid": "b1076dfc-b9ad-4769-8c92-a6c4dae69d19",
    "_uuid": "8f2839f25d086af736a60e9eeb907d3b93b6e0e5",
    "execution": {
     "iopub.execute_input": "2023-04-24T02:01:48.649476Z",
     "iopub.status.busy": "2023-04-24T02:01:48.648760Z",
     "iopub.status.idle": "2023-04-24T02:01:48.691412Z",
     "shell.execute_reply": "2023-04-24T02:01:48.690403Z",
     "shell.execute_reply.started": "2023-04-24T02:01:48.649435Z"
    }
   },
   "outputs": [],
   "source": [
    "\n",
    "\n",
    "import numpy as np \n",
    "import pandas as pd \n",
    "\n",
    "\n",
    "import os\n",
    "for dirname, _, filenames in os.walk('/kaggle/input'):\n",
    "    for filename in filenames:\n",
    "        print(os.path.join(dirname, filename))\n",
    "\n"
   ]
  },
  {
   "cell_type": "markdown",
   "metadata": {},
   "source": [
    "# Data loading and exploring"
   ]
  },
  {
   "cell_type": "code",
   "execution_count": 2,
   "metadata": {
    "execution": {
     "iopub.execute_input": "2023-04-24T02:03:26.036015Z",
     "iopub.status.busy": "2023-04-24T02:03:26.035616Z",
     "iopub.status.idle": "2023-04-24T02:03:26.290980Z",
     "shell.execute_reply": "2023-04-24T02:03:26.289746Z",
     "shell.execute_reply.started": "2023-04-24T02:03:26.035980Z"
    }
   },
   "outputs": [],
   "source": [
    "train_data = pd.read_csv(\"Corona.csv\")\n",
    "test_data = pd.read_csv(\"Corona.csv\")"
   ]
  },
  {
   "cell_type": "code",
   "execution_count": 3,
   "metadata": {
    "execution": {
     "iopub.execute_input": "2023-04-24T02:46:45.192163Z",
     "iopub.status.busy": "2023-04-24T02:46:45.191204Z",
     "iopub.status.idle": "2023-04-24T02:46:45.203604Z",
     "shell.execute_reply": "2023-04-24T02:46:45.202622Z",
     "shell.execute_reply.started": "2023-04-24T02:46:45.192111Z"
    }
   },
   "outputs": [],
   "source": [
    "train_data['Sentiment'] = train_data['Sentiment'].map({'Extremely Negative':'Negative','Negative':'Negative','Neutral':'Neutral','Positive':'Positive','Extremely Positive':'Positive'})"
   ]
  },
  {
   "cell_type": "code",
   "execution_count": 4,
   "metadata": {
    "execution": {
     "iopub.execute_input": "2023-04-24T02:47:21.363886Z",
     "iopub.status.busy": "2023-04-24T02:47:21.363402Z",
     "iopub.status.idle": "2023-04-24T02:47:21.374400Z",
     "shell.execute_reply": "2023-04-24T02:47:21.373543Z",
     "shell.execute_reply.started": "2023-04-24T02:47:21.363841Z"
    }
   },
   "outputs": [],
   "source": [
    "test_data['Sentiment'] = test_data['Sentiment'].map({'Extremely Negative':'Negative','Negative':'Negative','Neutral':'Neutral','Positive':'Positive','Extremely Positive':'Positive'})"
   ]
  },
  {
   "cell_type": "code",
   "execution_count": 5,
   "metadata": {
    "execution": {
     "iopub.execute_input": "2023-04-24T02:46:48.224245Z",
     "iopub.status.busy": "2023-04-24T02:46:48.223512Z",
     "iopub.status.idle": "2023-04-24T02:46:48.237773Z",
     "shell.execute_reply": "2023-04-24T02:46:48.236503Z",
     "shell.execute_reply.started": "2023-04-24T02:46:48.224207Z"
    }
   },
   "outputs": [
    {
     "data": {
      "text/html": [
       "<div>\n",
       "<style scoped>\n",
       "    .dataframe tbody tr th:only-of-type {\n",
       "        vertical-align: middle;\n",
       "    }\n",
       "\n",
       "    .dataframe tbody tr th {\n",
       "        vertical-align: top;\n",
       "    }\n",
       "\n",
       "    .dataframe thead th {\n",
       "        text-align: right;\n",
       "    }\n",
       "</style>\n",
       "<table border=\"1\" class=\"dataframe\">\n",
       "  <thead>\n",
       "    <tr style=\"text-align: right;\">\n",
       "      <th></th>\n",
       "      <th>UserName</th>\n",
       "      <th>ScreenName</th>\n",
       "      <th>Location</th>\n",
       "      <th>TweetAt</th>\n",
       "      <th>OriginalTweet</th>\n",
       "      <th>Sentiment</th>\n",
       "    </tr>\n",
       "  </thead>\n",
       "  <tbody>\n",
       "    <tr>\n",
       "      <th>0</th>\n",
       "      <td>1</td>\n",
       "      <td>44953</td>\n",
       "      <td>NYC</td>\n",
       "      <td>02-03-2020</td>\n",
       "      <td>TRENDING: New Yorkers encounter empty supermar...</td>\n",
       "      <td>Negative</td>\n",
       "    </tr>\n",
       "    <tr>\n",
       "      <th>1</th>\n",
       "      <td>2</td>\n",
       "      <td>44954</td>\n",
       "      <td>Seattle, WA</td>\n",
       "      <td>02-03-2020</td>\n",
       "      <td>When I couldn't find hand sanitizer at Fred Me...</td>\n",
       "      <td>Positive</td>\n",
       "    </tr>\n",
       "    <tr>\n",
       "      <th>2</th>\n",
       "      <td>3</td>\n",
       "      <td>44955</td>\n",
       "      <td>NaN</td>\n",
       "      <td>02-03-2020</td>\n",
       "      <td>Find out how you can protect yourself and love...</td>\n",
       "      <td>Positive</td>\n",
       "    </tr>\n",
       "    <tr>\n",
       "      <th>3</th>\n",
       "      <td>4</td>\n",
       "      <td>44956</td>\n",
       "      <td>Chicagoland</td>\n",
       "      <td>02-03-2020</td>\n",
       "      <td>#Panic buying hits #NewYork City as anxious sh...</td>\n",
       "      <td>Negative</td>\n",
       "    </tr>\n",
       "    <tr>\n",
       "      <th>4</th>\n",
       "      <td>5</td>\n",
       "      <td>44957</td>\n",
       "      <td>Melbourne, Victoria</td>\n",
       "      <td>03-03-2020</td>\n",
       "      <td>#toiletpaper #dunnypaper #coronavirus #coronav...</td>\n",
       "      <td>Neutral</td>\n",
       "    </tr>\n",
       "  </tbody>\n",
       "</table>\n",
       "</div>"
      ],
      "text/plain": [
       "   UserName  ScreenName             Location     TweetAt  \\\n",
       "0         1       44953                  NYC  02-03-2020   \n",
       "1         2       44954          Seattle, WA  02-03-2020   \n",
       "2         3       44955                  NaN  02-03-2020   \n",
       "3         4       44956          Chicagoland  02-03-2020   \n",
       "4         5       44957  Melbourne, Victoria  03-03-2020   \n",
       "\n",
       "                                       OriginalTweet Sentiment  \n",
       "0  TRENDING: New Yorkers encounter empty supermar...  Negative  \n",
       "1  When I couldn't find hand sanitizer at Fred Me...  Positive  \n",
       "2  Find out how you can protect yourself and love...  Positive  \n",
       "3  #Panic buying hits #NewYork City as anxious sh...  Negative  \n",
       "4  #toiletpaper #dunnypaper #coronavirus #coronav...   Neutral  "
      ]
     },
     "execution_count": 5,
     "metadata": {},
     "output_type": "execute_result"
    }
   ],
   "source": [
    "train_data.head()"
   ]
  },
  {
   "cell_type": "code",
   "execution_count": 6,
   "metadata": {
    "execution": {
     "iopub.execute_input": "2023-04-24T02:47:25.781666Z",
     "iopub.status.busy": "2023-04-24T02:47:25.780603Z",
     "iopub.status.idle": "2023-04-24T02:47:25.797324Z",
     "shell.execute_reply": "2023-04-24T02:47:25.796213Z",
     "shell.execute_reply.started": "2023-04-24T02:47:25.781627Z"
    }
   },
   "outputs": [
    {
     "data": {
      "text/html": [
       "<div>\n",
       "<style scoped>\n",
       "    .dataframe tbody tr th:only-of-type {\n",
       "        vertical-align: middle;\n",
       "    }\n",
       "\n",
       "    .dataframe tbody tr th {\n",
       "        vertical-align: top;\n",
       "    }\n",
       "\n",
       "    .dataframe thead th {\n",
       "        text-align: right;\n",
       "    }\n",
       "</style>\n",
       "<table border=\"1\" class=\"dataframe\">\n",
       "  <thead>\n",
       "    <tr style=\"text-align: right;\">\n",
       "      <th></th>\n",
       "      <th>UserName</th>\n",
       "      <th>ScreenName</th>\n",
       "      <th>Location</th>\n",
       "      <th>TweetAt</th>\n",
       "      <th>OriginalTweet</th>\n",
       "      <th>Sentiment</th>\n",
       "    </tr>\n",
       "  </thead>\n",
       "  <tbody>\n",
       "    <tr>\n",
       "      <th>0</th>\n",
       "      <td>1</td>\n",
       "      <td>44953</td>\n",
       "      <td>NYC</td>\n",
       "      <td>02-03-2020</td>\n",
       "      <td>TRENDING: New Yorkers encounter empty supermar...</td>\n",
       "      <td>Negative</td>\n",
       "    </tr>\n",
       "    <tr>\n",
       "      <th>1</th>\n",
       "      <td>2</td>\n",
       "      <td>44954</td>\n",
       "      <td>Seattle, WA</td>\n",
       "      <td>02-03-2020</td>\n",
       "      <td>When I couldn't find hand sanitizer at Fred Me...</td>\n",
       "      <td>Positive</td>\n",
       "    </tr>\n",
       "    <tr>\n",
       "      <th>2</th>\n",
       "      <td>3</td>\n",
       "      <td>44955</td>\n",
       "      <td>NaN</td>\n",
       "      <td>02-03-2020</td>\n",
       "      <td>Find out how you can protect yourself and love...</td>\n",
       "      <td>Positive</td>\n",
       "    </tr>\n",
       "    <tr>\n",
       "      <th>3</th>\n",
       "      <td>4</td>\n",
       "      <td>44956</td>\n",
       "      <td>Chicagoland</td>\n",
       "      <td>02-03-2020</td>\n",
       "      <td>#Panic buying hits #NewYork City as anxious sh...</td>\n",
       "      <td>Negative</td>\n",
       "    </tr>\n",
       "    <tr>\n",
       "      <th>4</th>\n",
       "      <td>5</td>\n",
       "      <td>44957</td>\n",
       "      <td>Melbourne, Victoria</td>\n",
       "      <td>03-03-2020</td>\n",
       "      <td>#toiletpaper #dunnypaper #coronavirus #coronav...</td>\n",
       "      <td>Neutral</td>\n",
       "    </tr>\n",
       "  </tbody>\n",
       "</table>\n",
       "</div>"
      ],
      "text/plain": [
       "   UserName  ScreenName             Location     TweetAt  \\\n",
       "0         1       44953                  NYC  02-03-2020   \n",
       "1         2       44954          Seattle, WA  02-03-2020   \n",
       "2         3       44955                  NaN  02-03-2020   \n",
       "3         4       44956          Chicagoland  02-03-2020   \n",
       "4         5       44957  Melbourne, Victoria  03-03-2020   \n",
       "\n",
       "                                       OriginalTweet Sentiment  \n",
       "0  TRENDING: New Yorkers encounter empty supermar...  Negative  \n",
       "1  When I couldn't find hand sanitizer at Fred Me...  Positive  \n",
       "2  Find out how you can protect yourself and love...  Positive  \n",
       "3  #Panic buying hits #NewYork City as anxious sh...  Negative  \n",
       "4  #toiletpaper #dunnypaper #coronavirus #coronav...   Neutral  "
      ]
     },
     "execution_count": 6,
     "metadata": {},
     "output_type": "execute_result"
    }
   ],
   "source": [
    "test_data.head()"
   ]
  },
  {
   "cell_type": "code",
   "execution_count": 7,
   "metadata": {
    "execution": {
     "iopub.execute_input": "2023-04-24T02:47:28.918475Z",
     "iopub.status.busy": "2023-04-24T02:47:28.918014Z",
     "iopub.status.idle": "2023-04-24T02:47:28.930301Z",
     "shell.execute_reply": "2023-04-24T02:47:28.929185Z",
     "shell.execute_reply.started": "2023-04-24T02:47:28.918429Z"
    }
   },
   "outputs": [
    {
     "data": {
      "text/plain": [
       "(3798, 3798)"
      ]
     },
     "execution_count": 7,
     "metadata": {},
     "output_type": "execute_result"
    }
   ],
   "source": [
    "len(train_data), len(test_data)"
   ]
  },
  {
   "cell_type": "code",
   "execution_count": 8,
   "metadata": {
    "execution": {
     "iopub.execute_input": "2023-04-24T02:47:33.269013Z",
     "iopub.status.busy": "2023-04-24T02:47:33.268481Z",
     "iopub.status.idle": "2023-04-24T02:47:33.286590Z",
     "shell.execute_reply": "2023-04-24T02:47:33.284194Z",
     "shell.execute_reply.started": "2023-04-24T02:47:33.268964Z"
    }
   },
   "outputs": [
    {
     "data": {
      "text/plain": [
       "array(['Negative', 'Positive', 'Neutral'], dtype=object)"
      ]
     },
     "execution_count": 8,
     "metadata": {},
     "output_type": "execute_result"
    }
   ],
   "source": [
    "labels = train_data[\"Sentiment\"].unique()\n",
    "labels"
   ]
  },
  {
   "cell_type": "code",
   "execution_count": 9,
   "metadata": {
    "execution": {
     "iopub.execute_input": "2023-04-24T02:47:35.547960Z",
     "iopub.status.busy": "2023-04-24T02:47:35.547276Z",
     "iopub.status.idle": "2023-04-24T02:47:35.555073Z",
     "shell.execute_reply": "2023-04-24T02:47:35.553782Z",
     "shell.execute_reply.started": "2023-04-24T02:47:35.547923Z"
    }
   },
   "outputs": [
    {
     "data": {
      "text/plain": [
       "3"
      ]
     },
     "execution_count": 9,
     "metadata": {},
     "output_type": "execute_result"
    }
   ],
   "source": [
    "num_of_classes = len(labels)\n",
    "num_of_classes"
   ]
  },
  {
   "cell_type": "code",
   "execution_count": 10,
   "metadata": {
    "execution": {
     "iopub.execute_input": "2023-04-24T02:47:37.590672Z",
     "iopub.status.busy": "2023-04-24T02:47:37.589745Z",
     "iopub.status.idle": "2023-04-24T02:47:37.602756Z",
     "shell.execute_reply": "2023-04-24T02:47:37.601521Z",
     "shell.execute_reply.started": "2023-04-24T02:47:37.590621Z"
    }
   },
   "outputs": [
    {
     "data": {
      "text/plain": [
       "Negative    1633\n",
       "Positive    1546\n",
       "Neutral      619\n",
       "Name: Sentiment, dtype: int64"
      ]
     },
     "execution_count": 10,
     "metadata": {},
     "output_type": "execute_result"
    }
   ],
   "source": [
    "train_data[\"Sentiment\"].value_counts()"
   ]
  },
  {
   "cell_type": "code",
   "execution_count": 11,
   "metadata": {
    "execution": {
     "iopub.execute_input": "2023-04-24T02:47:42.968129Z",
     "iopub.status.busy": "2023-04-24T02:47:42.967086Z",
     "iopub.status.idle": "2023-04-24T02:47:42.976810Z",
     "shell.execute_reply": "2023-04-24T02:47:42.975693Z",
     "shell.execute_reply.started": "2023-04-24T02:47:42.968077Z"
    }
   },
   "outputs": [
    {
     "data": {
      "text/plain": [
       "Negative    1633\n",
       "Positive    1546\n",
       "Neutral      619\n",
       "Name: Sentiment, dtype: int64"
      ]
     },
     "execution_count": 11,
     "metadata": {},
     "output_type": "execute_result"
    }
   ],
   "source": [
    "test_data[\"Sentiment\"].value_counts()"
   ]
  },
  {
   "cell_type": "code",
   "execution_count": 12,
   "metadata": {
    "execution": {
     "iopub.execute_input": "2023-04-24T02:47:44.402245Z",
     "iopub.status.busy": "2023-04-24T02:47:44.401869Z",
     "iopub.status.idle": "2023-04-24T02:47:44.408963Z",
     "shell.execute_reply": "2023-04-24T02:47:44.407934Z",
     "shell.execute_reply.started": "2023-04-24T02:47:44.402210Z"
    }
   },
   "outputs": [
    {
     "data": {
      "text/plain": [
       "'TRENDING: New Yorkers encounter empty supermarket shelves (pictured, Wegmans in Brooklyn), sold-out online grocers (FoodKick, MaxDelivery) as #coronavirus-fearing shoppers stock up https://t.co/Gr76pcrLWh https://t.co/ivMKMsqdT1'"
      ]
     },
     "execution_count": 12,
     "metadata": {},
     "output_type": "execute_result"
    }
   ],
   "source": [
    "train_data[\"OriginalTweet\"][0]"
   ]
  },
  {
   "cell_type": "code",
   "execution_count": 13,
   "metadata": {
    "execution": {
     "iopub.execute_input": "2023-04-24T02:47:45.648124Z",
     "iopub.status.busy": "2023-04-24T02:47:45.647124Z",
     "iopub.status.idle": "2023-04-24T02:47:45.652523Z",
     "shell.execute_reply": "2023-04-24T02:47:45.651296Z",
     "shell.execute_reply.started": "2023-04-24T02:47:45.648085Z"
    }
   },
   "outputs": [],
   "source": [
    "import seaborn as sns\n",
    "import matplotlib.pyplot as plt"
   ]
  },
  {
   "cell_type": "code",
   "execution_count": 14,
   "metadata": {
    "execution": {
     "iopub.execute_input": "2023-04-24T02:47:48.813683Z",
     "iopub.status.busy": "2023-04-24T02:47:48.813075Z",
     "iopub.status.idle": "2023-04-24T02:47:49.309980Z",
     "shell.execute_reply": "2023-04-24T02:47:49.307951Z",
     "shell.execute_reply.started": "2023-04-24T02:47:48.813647Z"
    }
   },
   "outputs": [
    {
     "data": {
      "image/png": "[encoded data removed]",
      "text/plain": [
       "<Figure size 432x288 with 1 Axes>"
      ]
     },
     "metadata": {
      "needs_background": "light"
     },
     "output_type": "display_data"
    }
   ],
   "source": [
    "text_length = train_data[\"OriginalTweet\"].apply(lambda x: len(x.split(' ')))\n",
    "sns.histplot(text_length)\n",
    "plt.xlabel('Length of Text')\n",
    "plt.show()"
   ]
  },
  {
   "cell_type": "markdown",
   "metadata": {},
   "source": [
    "# Data preprocessing"
   ]
  },
  {
   "cell_type": "code",
   "execution_count": 15,
   "metadata": {
    "execution": {
     "iopub.execute_input": "2023-04-24T02:47:54.969599Z",
     "iopub.status.busy": "2023-04-24T02:47:54.969229Z",
     "iopub.status.idle": "2023-04-24T02:47:54.975152Z",
     "shell.execute_reply": "2023-04-24T02:47:54.974003Z",
     "shell.execute_reply.started": "2023-04-24T02:47:54.969564Z"
    }
   },
   "outputs": [],
   "source": [
    "train_sentences = train_data[\"OriginalTweet\"]\n",
    "test_sentences = test_data[\"OriginalTweet\"]\n",
    "train_label = train_data[\"Sentiment\"]\n",
    "test_label = test_data[\"Sentiment\"]"
   ]
  },
  {
   "cell_type": "code",
   "execution_count": 16,
   "metadata": {
    "execution": {
     "iopub.execute_input": "2023-04-24T02:47:57.458336Z",
     "iopub.status.busy": "2023-04-24T02:47:57.457604Z",
     "iopub.status.idle": "2023-04-24T02:47:57.466020Z",
     "shell.execute_reply": "2023-04-24T02:47:57.464791Z",
     "shell.execute_reply.started": "2023-04-24T02:47:57.458298Z"
    }
   },
   "outputs": [
    {
     "data": {
      "text/plain": [
       "0    Negative\n",
       "1    Positive\n",
       "2    Positive\n",
       "3    Negative\n",
       "4     Neutral\n",
       "Name: Sentiment, dtype: object"
      ]
     },
     "execution_count": 16,
     "metadata": {},
     "output_type": "execute_result"
    }
   ],
   "source": [
    "train_label[:5]"
   ]
  },
  {
   "cell_type": "code",
   "execution_count": 17,
   "metadata": {
    "execution": {
     "iopub.execute_input": "2023-04-24T02:48:01.935012Z",
     "iopub.status.busy": "2023-04-24T02:48:01.933753Z",
     "iopub.status.idle": "2023-04-24T02:48:01.951604Z",
     "shell.execute_reply": "2023-04-24T02:48:01.950346Z",
     "shell.execute_reply.started": "2023-04-24T02:48:01.934967Z"
    }
   },
   "outputs": [],
   "source": [
    "from sklearn.preprocessing import LabelEncoder\n",
    "label_encoder = LabelEncoder()\n",
    "train_labels_encoded = label_encoder.fit_transform(train_label)\n",
    "test_labels_encoded = label_encoder.fit_transform(test_label)"
   ]
  },
  {
   "cell_type": "code",
   "execution_count": 18,
   "metadata": {
    "execution": {
     "iopub.execute_input": "2023-04-24T02:48:06.115791Z",
     "iopub.status.busy": "2023-04-24T02:48:06.114531Z",
     "iopub.status.idle": "2023-04-24T02:48:06.125104Z",
     "shell.execute_reply": "2023-04-24T02:48:06.123737Z",
     "shell.execute_reply.started": "2023-04-24T02:48:06.115740Z"
    }
   },
   "outputs": [
    {
     "data": {
      "text/plain": [
       "(array([0, 2, 2, 0, 1]), array([0, 2, 2, 0, 1]))"
      ]
     },
     "execution_count": 18,
     "metadata": {},
     "output_type": "execute_result"
    }
   ],
   "source": [
    "train_labels_encoded[:5], test_labels_encoded[:5]"
   ]
  },
  {
   "cell_type": "code",
   "execution_count": 19,
   "metadata": {
    "execution": {
     "iopub.execute_input": "2023-04-24T02:48:08.889099Z",
     "iopub.status.busy": "2023-04-24T02:48:08.888159Z",
     "iopub.status.idle": "2023-04-24T02:48:08.896902Z",
     "shell.execute_reply": "2023-04-24T02:48:08.895667Z",
     "shell.execute_reply.started": "2023-04-24T02:48:08.889048Z"
    }
   },
   "outputs": [
    {
     "data": {
      "text/plain": [
       "numpy.ndarray"
      ]
     },
     "execution_count": 19,
     "metadata": {},
     "output_type": "execute_result"
    }
   ],
   "source": [
    "type(train_labels_encoded)"
   ]
  },
  {
   "cell_type": "code",
   "execution_count": 20,
   "metadata": {
    "execution": {
     "iopub.execute_input": "2023-04-24T02:48:12.557987Z",
     "iopub.status.busy": "2023-04-24T02:48:12.556891Z",
     "iopub.status.idle": "2023-04-24T02:48:12.565464Z",
     "shell.execute_reply": "2023-04-24T02:48:12.564245Z",
     "shell.execute_reply.started": "2023-04-24T02:48:12.557947Z"
    }
   },
   "outputs": [
    {
     "data": {
      "text/plain": [
       "((3798,), (3798,))"
      ]
     },
     "execution_count": 20,
     "metadata": {},
     "output_type": "execute_result"
    }
   ],
   "source": [
    "train_sentences.shape, train_labels_encoded.shape"
   ]
  },
  {
   "cell_type": "code",
   "execution_count": 21,
   "metadata": {
    "execution": {
     "iopub.execute_input": "2023-04-24T02:48:13.895285Z",
     "iopub.status.busy": "2023-04-24T02:48:13.894567Z",
     "iopub.status.idle": "2023-04-24T02:48:13.980734Z",
     "shell.execute_reply": "2023-04-24T02:48:13.979771Z",
     "shell.execute_reply.started": "2023-04-24T02:48:13.895246Z"
    }
   },
   "outputs": [
    {
     "data": {
      "text/plain": [
       "[23, 30, 13, 37, 26, 35, 12, 28, 52, 37]"
      ]
     },
     "execution_count": 21,
     "metadata": {},
     "output_type": "execute_result"
    }
   ],
   "source": [
    "sent_lens = [len(sentence.split()) for sentence in train_sentences]\n",
    "sent_lens[:10]"
   ]
  },
  {
   "cell_type": "code",
   "execution_count": 22,
   "metadata": {
    "execution": {
     "iopub.execute_input": "2023-04-24T02:48:15.149844Z",
     "iopub.status.busy": "2023-04-24T02:48:15.148689Z",
     "iopub.status.idle": "2023-04-24T02:48:15.162274Z",
     "shell.execute_reply": "2023-04-24T02:48:15.160763Z",
     "shell.execute_reply.started": "2023-04-24T02:48:15.149805Z"
    }
   },
   "outputs": [
    {
     "data": {
      "text/plain": [
       "32.909689310163245"
      ]
     },
     "execution_count": 22,
     "metadata": {},
     "output_type": "execute_result"
    }
   ],
   "source": [
    "import numpy as np\n",
    "avg_len = np.mean(sent_lens)\n",
    "avg_len"
   ]
  },
  {
   "cell_type": "code",
   "execution_count": 23,
   "metadata": {
    "execution": {
     "iopub.execute_input": "2023-04-24T02:48:16.517136Z",
     "iopub.status.busy": "2023-04-24T02:48:16.516749Z",
     "iopub.status.idle": "2023-04-24T02:48:16.528155Z",
     "shell.execute_reply": "2023-04-24T02:48:16.526901Z",
     "shell.execute_reply.started": "2023-04-24T02:48:16.517101Z"
    }
   },
   "outputs": [
    {
     "data": {
      "text/plain": [
       "(2, 62)"
      ]
     },
     "execution_count": 23,
     "metadata": {},
     "output_type": "execute_result"
    }
   ],
   "source": [
    "min(sent_lens), max(sent_lens)"
   ]
  },
  {
   "cell_type": "code",
   "execution_count": 24,
   "metadata": {
    "execution": {
     "iopub.execute_input": "2023-04-24T02:48:17.948084Z",
     "iopub.status.busy": "2023-04-24T02:48:17.947156Z",
     "iopub.status.idle": "2023-04-24T02:48:17.960017Z",
     "shell.execute_reply": "2023-04-24T02:48:17.958465Z",
     "shell.execute_reply.started": "2023-04-24T02:48:17.948031Z"
    }
   },
   "outputs": [
    {
     "data": {
      "text/plain": [
       "50.0"
      ]
     },
     "execution_count": 24,
     "metadata": {},
     "output_type": "execute_result"
    }
   ],
   "source": [
    "out_len_seq = np.percentile(sent_lens, 95)\n",
    "out_len_seq"
   ]
  },
  {
   "cell_type": "markdown",
   "metadata": {},
   "source": [
    "# Text vectorization (tokenization)"
   ]
  },
  {
   "cell_type": "code",
   "execution_count": 25,
   "metadata": {
    "execution": {
     "iopub.execute_input": "2023-04-24T02:48:21.248885Z",
     "iopub.status.busy": "2023-04-24T02:48:21.248317Z",
     "iopub.status.idle": "2023-04-24T02:48:21.255612Z",
     "shell.execute_reply": "2023-04-24T02:48:21.254307Z",
     "shell.execute_reply.started": "2023-04-24T02:48:21.248832Z"
    }
   },
   "outputs": [],
   "source": [
    "from tensorflow.keras.layers.experimental.preprocessing import TextVectorization"
   ]
  },
  {
   "cell_type": "code",
   "execution_count": 26,
   "metadata": {
    "execution": {
     "iopub.execute_input": "2023-04-24T02:48:23.426149Z",
     "iopub.status.busy": "2023-04-24T02:48:23.425551Z",
     "iopub.status.idle": "2023-04-24T02:48:23.438166Z",
     "shell.execute_reply": "2023-04-24T02:48:23.437185Z",
     "shell.execute_reply.started": "2023-04-24T02:48:23.426106Z"
    }
   },
   "outputs": [],
   "source": [
    "text_vectorizer = TextVectorization(\n",
    "    max_tokens=None,\n",
    "    standardize='lower_and_strip_punctuation',\n",
    "    split='whitespace',\n",
    "    ngrams=None,\n",
    "    output_mode='int',\n",
    "    output_sequence_length=None)"
   ]
  },
  {
   "cell_type": "code",
   "execution_count": 27,
   "metadata": {
    "execution": {
     "iopub.execute_input": "2023-04-24T02:48:25.530247Z",
     "iopub.status.busy": "2023-04-24T02:48:25.529508Z",
     "iopub.status.idle": "2023-04-24T02:48:25.542903Z",
     "shell.execute_reply": "2023-04-24T02:48:25.541738Z",
     "shell.execute_reply.started": "2023-04-24T02:48:25.530207Z"
    }
   },
   "outputs": [],
   "source": [
    "max_vocab_length = 50000\n",
    "max_length = 50\n",
    "text_vectorizer = TextVectorization(\n",
    "    max_tokens=max_vocab_length,\n",
    "    output_mode='int',\n",
    "    output_sequence_length=max_length)"
   ]
  },
  {
   "cell_type": "code",
   "execution_count": 28,
   "metadata": {
    "execution": {
     "iopub.execute_input": "2023-04-24T02:48:26.900875Z",
     "iopub.status.busy": "2023-04-24T02:48:26.899591Z",
     "iopub.status.idle": "2023-04-24T02:48:29.687220Z",
     "shell.execute_reply": "2023-04-24T02:48:29.686019Z",
     "shell.execute_reply.started": "2023-04-24T02:48:26.900821Z"
    }
   },
   "outputs": [],
   "source": [
    "text_vectorizer.adapt(train_sentences)"
   ]
  },
  {
   "cell_type": "code",
   "execution_count": 29,
   "metadata": {
    "execution": {
     "iopub.execute_input": "2023-04-24T02:48:29.689892Z",
     "iopub.status.busy": "2023-04-24T02:48:29.689565Z",
     "iopub.status.idle": "2023-04-24T02:48:29.711497Z",
     "shell.execute_reply": "2023-04-24T02:48:29.710368Z",
     "shell.execute_reply.started": "2023-04-24T02:48:29.689862Z"
    }
   },
   "outputs": [
    {
     "name": "stdout",
     "output_type": "stream",
     "text": [
      "Retailers across the board have upped their store cleaning regiments. https://t.co/qjlsxWdmnp #retail #coronavirus https://t.co/NoELxMLpbR\n",
      "tf.Tensor(\n",
      "[[  363   422     2  2016    25  5870    63    17   314  7413 10190    78\n",
      "      9 10375     0     0     0     0     0     0     0     0     0     0\n",
      "      0     0     0     0     0     0     0     0     0     0     0     0\n",
      "      0     0     0     0     0     0     0     0     0     0     0     0\n",
      "      0     0]], shape=(1, 50), dtype=int64)\n"
     ]
    }
   ],
   "source": [
    "import random\n",
    "random_sentence = random.choice(train_sentences)\n",
    "print(random_sentence)\n",
    "print(text_vectorizer([random_sentence]))"
   ]
  },
  {
   "cell_type": "markdown",
   "metadata": {},
   "source": [
    "# Embedding"
   ]
  },
  {
   "cell_type": "code",
   "execution_count": 30,
   "metadata": {
    "execution": {
     "iopub.execute_input": "2023-04-24T02:48:35.024823Z",
     "iopub.status.busy": "2023-04-24T02:48:35.024337Z",
     "iopub.status.idle": "2023-04-24T02:48:35.038363Z",
     "shell.execute_reply": "2023-04-24T02:48:35.037455Z",
     "shell.execute_reply.started": "2023-04-24T02:48:35.024779Z"
    }
   },
   "outputs": [
    {
     "data": {
      "text/plain": [
       "<keras.layers.core.embedding.Embedding at 0x1fc5ebc9760>"
      ]
     },
     "execution_count": 30,
     "metadata": {},
     "output_type": "execute_result"
    }
   ],
   "source": [
    "from tensorflow.keras import layers\n",
    "embedding = layers.Embedding(input_dim=max_vocab_length, \n",
    "                             output_dim=128, \n",
    "                             input_length=max_length,\n",
    "                             embeddings_initializer='uniform')\n",
    "embedding"
   ]
  },
  {
   "cell_type": "code",
   "execution_count": 31,
   "metadata": {
    "execution": {
     "iopub.execute_input": "2023-04-24T02:48:38.190870Z",
     "iopub.status.busy": "2023-04-24T02:48:38.190486Z",
     "iopub.status.idle": "2023-04-24T02:48:38.211958Z",
     "shell.execute_reply": "2023-04-24T02:48:38.210355Z",
     "shell.execute_reply.started": "2023-04-24T02:48:38.190836Z"
    }
   },
   "outputs": [
    {
     "name": "stdout",
     "output_type": "stream",
     "text": [
      "tf.Tensor(\n",
      "[[[ 0.03250999 -0.00115196  0.00916622 ...  0.03242815  0.00090892\n",
      "    0.03679604]\n",
      "  [ 0.00984152 -0.0097934  -0.03514441 ...  0.02745912  0.01469081\n",
      "   -0.006913  ]\n",
      "  [ 0.03333468  0.03771446 -0.04189136 ... -0.0408537  -0.03951389\n",
      "   -0.00450935]\n",
      "  ...\n",
      "  [-0.04555335 -0.00214039  0.03202785 ... -0.02470992  0.02326032\n",
      "    0.03311503]\n",
      "  [-0.04555335 -0.00214039  0.03202785 ... -0.02470992  0.02326032\n",
      "    0.03311503]\n",
      "  [-0.04555335 -0.00214039  0.03202785 ... -0.02470992  0.02326032\n",
      "    0.03311503]]], shape=(1, 50, 128), dtype=float32)\n"
     ]
    }
   ],
   "source": [
    "print(embedding(text_vectorizer([random_sentence])))"
   ]
  },
  {
   "cell_type": "markdown",
   "metadata": {},
   "source": [
    "# Naive bayes"
   ]
  },
  {
   "cell_type": "code",
   "execution_count": 32,
   "metadata": {
    "execution": {
     "iopub.execute_input": "2023-04-24T02:48:43.919275Z",
     "iopub.status.busy": "2023-04-24T02:48:43.918916Z",
     "iopub.status.idle": "2023-04-24T02:48:43.924077Z",
     "shell.execute_reply": "2023-04-24T02:48:43.922910Z",
     "shell.execute_reply.started": "2023-04-24T02:48:43.919241Z"
    }
   },
   "outputs": [],
   "source": [
    "from sklearn.feature_extraction.text import TfidfVectorizer\n",
    "from sklearn.naive_bayes import MultinomialNB\n",
    "from sklearn.pipeline import Pipeline"
   ]
  },
  {
   "cell_type": "code",
   "execution_count": 33,
   "metadata": {
    "execution": {
     "iopub.execute_input": "2023-04-24T02:48:45.635096Z",
     "iopub.status.busy": "2023-04-24T02:48:45.634737Z",
     "iopub.status.idle": "2023-04-24T02:48:46.971862Z",
     "shell.execute_reply": "2023-04-24T02:48:46.970782Z",
     "shell.execute_reply.started": "2023-04-24T02:48:45.635064Z"
    }
   },
   "outputs": [
    {
     "data": {
      "text/plain": [
       "Pipeline(steps=[('tfidf', TfidfVectorizer()), ('clf', MultinomialNB())])"
      ]
     },
     "execution_count": 33,
     "metadata": {},
     "output_type": "execute_result"
    }
   ],
   "source": [
    "model_0 = Pipeline([\n",
    "        (\"tfidf\", TfidfVectorizer()),\n",
    "        (\"clf\", MultinomialNB()),\n",
    "     ])\n",
    "\n",
    "model_0.fit(train_sentences, train_label)"
   ]
  },
  {
   "cell_type": "code",
   "execution_count": 34,
   "metadata": {
    "execution": {
     "iopub.execute_input": "2023-04-24T02:48:48.211797Z",
     "iopub.status.busy": "2023-04-24T02:48:48.211396Z",
     "iopub.status.idle": "2023-04-24T02:48:48.336499Z",
     "shell.execute_reply": "2023-04-24T02:48:48.335493Z",
     "shell.execute_reply.started": "2023-04-24T02:48:48.211761Z"
    }
   },
   "outputs": [],
   "source": [
    "baseline_score = model_0.score(test_sentences, test_label)"
   ]
  },
  {
   "cell_type": "code",
   "execution_count": 35,
   "metadata": {
    "execution": {
     "iopub.execute_input": "2023-04-24T02:48:49.494568Z",
     "iopub.status.busy": "2023-04-24T02:48:49.494203Z",
     "iopub.status.idle": "2023-04-24T02:48:49.500209Z",
     "shell.execute_reply": "2023-04-24T02:48:49.499128Z",
     "shell.execute_reply.started": "2023-04-24T02:48:49.494525Z"
    }
   },
   "outputs": [
    {
     "name": "stdout",
     "output_type": "stream",
     "text": [
      "80.04212743549236\n"
     ]
    }
   ],
   "source": [
    "print(baseline_score*100)"
   ]
  },
  {
   "cell_type": "markdown",
   "metadata": {},
   "source": [
    "# Conv1D model"
   ]
  },
  {
   "cell_type": "code",
   "execution_count": 36,
   "metadata": {
    "execution": {
     "iopub.execute_input": "2023-04-24T02:50:40.008255Z",
     "iopub.status.busy": "2023-04-24T02:50:40.007684Z",
     "iopub.status.idle": "2023-04-24T02:50:40.079699Z",
     "shell.execute_reply": "2023-04-24T02:50:40.078769Z",
     "shell.execute_reply.started": "2023-04-24T02:50:40.008212Z"
    }
   },
   "outputs": [],
   "source": [
    "import tensorflow as tf\n",
    "from tensorflow.keras import layers\n",
    "\n",
    "inputs = layers.Input(shape=(1,), dtype=tf.string)\n",
    "x = text_vectorizer(inputs)\n",
    "x = embedding(x)\n",
    "x = layers.GlobalAveragePooling1D()(x)\n",
    "outputs = layers.Dense(num_of_classes, activation = \"sigmoid\")(x)\n",
    "model_1 = tf.keras.Model(inputs, outputs, name=\"dense_model\")"
   ]
  },
  {
   "cell_type": "code",
   "execution_count": 37,
   "metadata": {
    "execution": {
     "iopub.execute_input": "2023-04-24T02:50:44.286454Z",
     "iopub.status.busy": "2023-04-24T02:50:44.285997Z",
     "iopub.status.idle": "2023-04-24T02:50:44.301823Z",
     "shell.execute_reply": "2023-04-24T02:50:44.300587Z",
     "shell.execute_reply.started": "2023-04-24T02:50:44.286413Z"
    }
   },
   "outputs": [],
   "source": [
    "model_1.compile(loss=tf.keras.losses.CategoricalCrossentropy(),optimizer = tf.keras.optimizers.Adam(), metrics=[\"accuracy\"])"
   ]
  },
  {
   "cell_type": "code",
   "execution_count": 38,
   "metadata": {
    "execution": {
     "iopub.execute_input": "2023-04-24T02:50:47.232751Z",
     "iopub.status.busy": "2023-04-24T02:50:47.232130Z",
     "iopub.status.idle": "2023-04-24T02:50:47.256614Z",
     "shell.execute_reply": "2023-04-24T02:50:47.255397Z",
     "shell.execute_reply.started": "2023-04-24T02:50:47.232690Z"
    }
   },
   "outputs": [
    {
     "data": {
      "text/plain": [
       "array([[1., 0., 0.],\n",
       "       [0., 0., 1.],\n",
       "       [0., 0., 1.],\n",
       "       [1., 0., 0.],\n",
       "       [0., 1., 0.]])"
      ]
     },
     "execution_count": 38,
     "metadata": {},
     "output_type": "execute_result"
    }
   ],
   "source": [
    "from sklearn.preprocessing import OneHotEncoder\n",
    "one_hot_encoder = OneHotEncoder(sparse=False)\n",
    "train_labels_one_hot = one_hot_encoder.fit_transform(train_label.to_numpy().reshape(-1, 1))\n",
    "test_labels_one_hot = one_hot_encoder.fit_transform(test_label.to_numpy().reshape(-1, 1))\n",
    "train_labels_one_hot[:5]"
   ]
  },
  {
   "cell_type": "code",
   "execution_count": 39,
   "metadata": {
    "execution": {
     "iopub.execute_input": "2023-04-24T02:50:48.843894Z",
     "iopub.status.busy": "2023-04-24T02:50:48.843504Z",
     "iopub.status.idle": "2023-04-24T02:50:48.850604Z",
     "shell.execute_reply": "2023-04-24T02:50:48.849574Z",
     "shell.execute_reply.started": "2023-04-24T02:50:48.843859Z"
    }
   },
   "outputs": [
    {
     "data": {
      "text/plain": [
       "(3798, 3)"
      ]
     },
     "execution_count": 39,
     "metadata": {},
     "output_type": "execute_result"
    }
   ],
   "source": [
    "test_labels_one_hot.shape"
   ]
  },
  {
   "cell_type": "code",
   "execution_count": 40,
   "metadata": {
    "execution": {
     "iopub.execute_input": "2023-04-24T02:50:51.407588Z",
     "iopub.status.busy": "2023-04-24T02:50:51.407220Z",
     "iopub.status.idle": "2023-04-24T02:51:47.935035Z",
     "shell.execute_reply": "2023-04-24T02:51:47.933981Z",
     "shell.execute_reply.started": "2023-04-24T02:50:51.407547Z"
    }
   },
   "outputs": [
    {
     "name": "stdout",
     "output_type": "stream",
     "text": [
      "Epoch 1/5\n",
      "119/119 [==============================] - 11s 85ms/step - loss: 1.0328 - accuracy: 0.4903 - val_loss: 0.9644 - val_accuracy: 0.5895\n",
      "Epoch 2/5\n",
      "119/119 [==============================] - 9s 79ms/step - loss: 0.9247 - accuracy: 0.6527 - val_loss: 0.8572 - val_accuracy: 0.6862\n",
      "Epoch 3/5\n",
      "119/119 [==============================] - 9s 80ms/step - loss: 0.8205 - accuracy: 0.7141 - val_loss: 0.7410 - val_accuracy: 0.7717\n",
      "Epoch 4/5\n",
      "119/119 [==============================] - 10s 83ms/step - loss: 0.7061 - accuracy: 0.7746 - val_loss: 0.6268 - val_accuracy: 0.8131\n",
      "Epoch 5/5\n",
      "119/119 [==============================] - 9s 79ms/step - loss: 0.5960 - accuracy: 0.8278 - val_loss: 0.5201 - val_accuracy: 0.8676\n"
     ]
    }
   ],
   "source": [
    "model_1_history = model_1.fit(np.array(train_sentences), \n",
    "                              train_labels_one_hot,\n",
    "                              epochs=5,\n",
    "                              validation_data=(np.array(test_sentences), test_labels_one_hot)) "
   ]
  }
 ],
 "metadata": {
  "kernelspec": {
   "display_name": "Python 3 (ipykernel)",
   "language": "python",
   "name": "python3"
  },
  "language_info": {
   "codemirror_mode": {
    "name": "ipython",
    "version": 3
   },
   "file_extension": ".py",
   "mimetype": "text/x-python",
   "name": "python",
   "nbconvert_exporter": "python",
   "pygments_lexer": "ipython3",
   "version": "3.10.9"
  }
 },
 "nbformat": 4,
 "nbformat_minor": 4
}
