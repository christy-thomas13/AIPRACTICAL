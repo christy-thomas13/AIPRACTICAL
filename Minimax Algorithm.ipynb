{
 "cells": [
  {
   "cell_type": "markdown",
   "id": "47ccfcd3",
   "metadata": {},
   "source": [
    "# Minimax Algorithm"
   ]
  },
  {
   "cell_type": "markdown",
   "id": "8ae12fb4",
   "metadata": {},
   "source": [
    " Decision making and game theory to find the optimal move for a player, assuming that your opponent also plays optimally. It is widely used in two player turn-based games such as Tic-Tac-Toe, Backgammon, Mancala, Chess, etc. In Minimax the two players are called maximizer and minimizer. The maximizer tries to get the highest score possible while the minimizer tries to do the opposite and get the lowest score possible. Every board state has a value associated with it. In a given state if the maximizer has upper hand then, the score of the board will tend to be some positive value. If the minimizer has the upper hand in that board state then it will tend to be some negative value. The values of the board are calculated by some heuristics which are unique for every type of game."
   ]
  },
  {
   "attachments": {
    "image.png": {
     "image/png": "[encoded data removed]"
    }
   },
   "cell_type": "markdown",
   "id": "eb0317c5",
   "metadata": {},
   "source": [
    "# ![image.png](attachment:image.png)"
   ]
  },
  {
   "cell_type": "code",
   "execution_count": 1,
   "id": "f75ef7f4",
   "metadata": {},
   "outputs": [
    {
     "name": "stdout",
     "output_type": "stream",
     "text": [
      "The optimal value is : 11\n"
     ]
    }
   ],
   "source": [
    "\n",
    "import math\n",
    "\n",
    "def minimax (curDepth, nodeIndex,\n",
    "\t\t\tmaxTurn, scores,\n",
    "\t\t\ttargetDepth):\n",
    "\n",
    "\n",
    "\tif (curDepth == targetDepth):\n",
    "\t\treturn scores[nodeIndex]\n",
    "\t\n",
    "\tif (maxTurn):\n",
    "\t\treturn max(minimax(curDepth + 1, nodeIndex * 2,\n",
    "\t\t\t\t\tFalse, scores, targetDepth),\n",
    "\t\t\t\tminimax(curDepth + 1, nodeIndex * 2 + 1,\n",
    "\t\t\t\t\tFalse, scores, targetDepth))\n",
    "\t\n",
    "\telse:\n",
    "\t\treturn min(minimax(curDepth + 1, nodeIndex * 2,\n",
    "\t\t\t\t\tTrue, scores, targetDepth),\n",
    "\t\t\t\tminimax(curDepth + 1, nodeIndex * 2 + 1,\n",
    "\t\t\t\t\tTrue, scores, targetDepth))\n",
    "\t\n",
    "\n",
    "scores = [4, 6, 2, 9, 11, 5, 17, 23]\n",
    "\n",
    "treeDepth = math.log(len(scores), 2)\n",
    "\n",
    "print(\"The optimal value is : \", end = \"\")\n",
    "print(minimax(0, 0, True, scores, treeDepth))\n",
    "\n",
    "\n"
   ]
  },
  {
   "cell_type": "code",
   "execution_count": null,
   "id": "a74f3914",
   "metadata": {},
   "outputs": [],
   "source": []
  },
  {
   "cell_type": "code",
   "execution_count": null,
   "id": "a3c0a56c",
   "metadata": {},
   "outputs": [],
   "source": []
  },
  {
   "cell_type": "code",
   "execution_count": null,
   "id": "d04b7365",
   "metadata": {},
   "outputs": [],
   "source": []
  },
  {
   "cell_type": "code",
   "execution_count": null,
   "id": "0fa5a8ae",
   "metadata": {},
   "outputs": [],
   "source": []
  },
  {
   "cell_type": "code",
   "execution_count": null,
   "id": "62a6dc15",
   "metadata": {},
   "outputs": [],
   "source": []
  }
 ],
 "metadata": {
  "kernelspec": {
   "display_name": "Python 3 (ipykernel)",
   "language": "python",
   "name": "python3"
  },
  "language_info": {
   "codemirror_mode": {
    "name": "ipython",
    "version": 3
   },
   "file_extension": ".py",
   "mimetype": "text/x-python",
   "name": "python",
   "nbconvert_exporter": "python",
   "pygments_lexer": "ipython3",
   "version": "3.10.9"
  }
 },
 "nbformat": 4,
 "nbformat_minor": 5
}
