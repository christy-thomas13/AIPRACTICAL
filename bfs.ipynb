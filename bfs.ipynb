{
 "cells": [
  {
   "cell_type": "code",
   "execution_count": null,
   "id": "e1807bd3",
   "metadata": {
    "colab": {
     "base_uri": "https://localhost:8080/"
    },
    "id": "e1807bd3",
    "outputId": "bfa2aee6-3ae0-44ac-898f-08200ee60b5c"
   },
   "outputs": [
    {
     "name": "stdout",
     "output_type": "stream",
     "text": [
      "Following is the Breadth-First Search\n",
      "A B C D E F "
     ]
    }
   ],
   "source": [
    "graph = {\n",
    "  'A' : ['B','C'],\n",
    "  'B' : ['D', 'E'],\n",
    "  'C' : ['F'],\n",
    "  'D' : [],\n",
    "  'E' : [],\n",
    "  'F' : []   }\n",
    "\n",
    "visited = [] \n",
    "queue = []     \n",
    "\n",
    "def bfs(graph, node):\n",
    "  visited.append(node)\n",
    "  queue.append(node)\n",
    "\n",
    "  while queue:  \n",
    "    m = queue.pop(0) \n",
    "    print (m ,end =\" \") \n",
    "\n",
    "    for childs in graph[m]:\n",
    "      if childs not in visited:\n",
    "        visited.append(childs)\n",
    "        queue.append(childs)\n",
    "\n",
    "print(\"Following is the Breadth-First Search\")\n",
    "bfs(graph, 'A')    "
   ]
  },
  {
   "cell_type": "code",
   "execution_count": null,
   "id": "9c2f7449",
   "metadata": {},
   "outputs": [],
   "source": []
  }
 ],
 "metadata": {
  "colab": {
   "include_colab_link": true,
   "provenance": []
  },
  "kernelspec": {
   "display_name": "Python 3 (ipykernel)",
   "language": "python",
   "name": "python3"
  },
  "language_info": {
   "codemirror_mode": {
    "name": "ipython",
    "version": 3
   },
   "file_extension": ".py",
   "mimetype": "text/x-python",
   "name": "python",
   "nbconvert_exporter": "python",
   "pygments_lexer": "ipython3",
   "version": "3.10.9"
  }
 },
 "nbformat": 4,
 "nbformat_minor": 5
}
